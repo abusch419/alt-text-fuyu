{
 "cells": [
  {
   "cell_type": "code",
   "execution_count": 2,
   "id": "9bc73102-9f91-4541-8d75-2b186044b673",
   "metadata": {},
   "outputs": [
    {
     "name": "stdout",
     "output_type": "stream",
     "text": [
      "Requirement already satisfied: transformers in /Users/alexandereversbusch/.pyenv/versions/3.10.7/lib/python3.10/site-packages (4.35.2)\n",
      "Requirement already satisfied: filelock in /Users/alexandereversbusch/.pyenv/versions/3.10.7/lib/python3.10/site-packages (from transformers) (3.12.4)\n",
      "Requirement already satisfied: huggingface-hub<1.0,>=0.16.4 in /Users/alexandereversbusch/.pyenv/versions/3.10.7/lib/python3.10/site-packages (from transformers) (0.18.0)\n",
      "Requirement already satisfied: numpy>=1.17 in /Users/alexandereversbusch/.pyenv/versions/3.10.7/lib/python3.10/site-packages (from transformers) (1.26.1)\n",
      "Requirement already satisfied: packaging>=20.0 in /Users/alexandereversbusch/.pyenv/versions/3.10.7/lib/python3.10/site-packages (from transformers) (23.2)\n",
      "Requirement already satisfied: pyyaml>=5.1 in /Users/alexandereversbusch/.pyenv/versions/3.10.7/lib/python3.10/site-packages (from transformers) (6.0.1)\n",
      "Requirement already satisfied: regex!=2019.12.17 in /Users/alexandereversbusch/.pyenv/versions/3.10.7/lib/python3.10/site-packages (from transformers) (2023.10.3)\n",
      "Requirement already satisfied: requests in /Users/alexandereversbusch/.pyenv/versions/3.10.7/lib/python3.10/site-packages (from transformers) (2.31.0)\n",
      "Requirement already satisfied: tokenizers<0.19,>=0.14 in /Users/alexandereversbusch/.pyenv/versions/3.10.7/lib/python3.10/site-packages (from transformers) (0.15.0)\n",
      "Requirement already satisfied: safetensors>=0.3.1 in /Users/alexandereversbusch/.pyenv/versions/3.10.7/lib/python3.10/site-packages (from transformers) (0.4.0)\n",
      "Requirement already satisfied: tqdm>=4.27 in /Users/alexandereversbusch/.pyenv/versions/3.10.7/lib/python3.10/site-packages (from transformers) (4.66.1)\n",
      "Requirement already satisfied: fsspec>=2023.5.0 in /Users/alexandereversbusch/.pyenv/versions/3.10.7/lib/python3.10/site-packages (from huggingface-hub<1.0,>=0.16.4->transformers) (2023.10.0)\n",
      "Requirement already satisfied: typing-extensions>=3.7.4.3 in /Users/alexandereversbusch/.pyenv/versions/3.10.7/lib/python3.10/site-packages (from huggingface-hub<1.0,>=0.16.4->transformers) (4.8.0)\n",
      "Requirement already satisfied: charset-normalizer<4,>=2 in /Users/alexandereversbusch/.pyenv/versions/3.10.7/lib/python3.10/site-packages (from requests->transformers) (3.3.1)\n",
      "Requirement already satisfied: idna<4,>=2.5 in /Users/alexandereversbusch/.pyenv/versions/3.10.7/lib/python3.10/site-packages (from requests->transformers) (3.4)\n",
      "Requirement already satisfied: urllib3<3,>=1.21.1 in /Users/alexandereversbusch/.pyenv/versions/3.10.7/lib/python3.10/site-packages (from requests->transformers) (2.0.7)\n",
      "Requirement already satisfied: certifi>=2017.4.17 in /Users/alexandereversbusch/.pyenv/versions/3.10.7/lib/python3.10/site-packages (from requests->transformers) (2023.7.22)\n"
     ]
    }
   ],
   "source": [
    "!pip install transformers\n",
    "!pip -q install bitsandbytes accelerate\n",
    "import time "
   ]
  },
  {
   "cell_type": "code",
   "execution_count": 3,
   "id": "a31610a5-e81f-4636-99a4-a8df48e2a129",
   "metadata": {},
   "outputs": [
    {
     "data": {
      "application/vnd.jupyter.widget-view+json": {
       "model_id": "78a90f2108de4e62b62986d6b8d89e1c",
       "version_major": 2,
       "version_minor": 0
      },
      "text/plain": [
       "Loading checkpoint shards:   0%|          | 0/2 [00:00<?, ?it/s]"
      ]
     },
     "metadata": {},
     "output_type": "display_data"
    },
    {
     "name": "stdout",
     "output_type": "stream",
     "text": [
      "Model loaded successfully.\n",
      "37.528358936309814\n"
     ]
    }
   ],
   "source": [
    "start = time.time()\n",
    "\n",
    "from model import generate_text  # Assuming 'model.py' contains your model and inference code\n",
    "print(\"Model loaded successfully.\")\n",
    "\n",
    "end = time.time()\n",
    "print(end - start)"
   ]
  },
  {
   "cell_type": "code",
   "execution_count": null,
   "id": "5d9b4938-8b58-446b-97d4-594c9c5b1a8c",
   "metadata": {},
   "outputs": [
    {
     "name": "stderr",
     "output_type": "stream",
     "text": [
      "Setting `pad_token_id` to `eos_token_id`:71013 for open-end generation.\n"
     ]
    }
   ],
   "source": [
    "start = time.time()\n",
    "\n",
    "result = generate_text(\"https://as2.ftcdn.net/v2/jpg/01/42/21/91/1000_F_142219194_fwzSiS0dkWeUkmh4uIxA1J1nYoetmayI.jpg\")\n",
    "print(result)\n",
    "\n",
    "end = time.time()\n",
    "print(end - start)"
   ]
  },
  {
   "cell_type": "code",
   "execution_count": null,
   "id": "1f854ab5-7c1c-452e-b55e-312d8d33f658",
   "metadata": {},
   "outputs": [],
   "source": [
    "start = time.time()\n",
    "\n",
    "result = generate_text(\"https://media.istockphoto.com/id/1254062265/photo/an-african-american-guy-using-laptop-in-the-office.jpg?s=612x612&w=0&k=20&c=qyH05cqhlwsH6Wzm0x7FT6NDE6CYwfku1UktL7aOCTA=\")\n",
    "print(result)\n",
    "\n",
    "end = time.time()\n",
    "print(end - start)"
   ]
  },
  {
   "cell_type": "code",
   "execution_count": null,
   "id": "802e0218-08da-4a24-a829-cdf6f06e77e5",
   "metadata": {},
   "outputs": [],
   "source": []
  }
 ],
 "metadata": {
  "kernelspec": {
   "display_name": "Python 3 (ipykernel)",
   "language": "python",
   "name": "python3"
  },
  "language_info": {
   "codemirror_mode": {
    "name": "ipython",
    "version": 3
   },
   "file_extension": ".py",
   "mimetype": "text/x-python",
   "name": "python",
   "nbconvert_exporter": "python",
   "pygments_lexer": "ipython3",
   "version": "3.10.7"
  }
 },
 "nbformat": 4,
 "nbformat_minor": 5
}
